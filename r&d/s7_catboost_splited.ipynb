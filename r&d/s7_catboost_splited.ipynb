{
  "cells": [
    {
      "cell_type": "code",
      "execution_count": 50,
      "id": "32a6f9d9",
      "metadata": {
        "id": "32a6f9d9"
      },
      "outputs": [],
      "source": [
        "import  numpy\n",
        "import  pandas\n",
        "import   tqdm\n",
        "# !pip install scikit_learn\n",
        "# !pip install catboost"
      ]
    },
    {
      "cell_type": "code",
      "execution_count": 51,
      "id": "f8cd8067",
      "metadata": {
        "id": "f8cd8067"
      },
      "outputs": [],
      "source": [
        "import pandas as pd\n",
        "import numpy as np\n",
        "from tqdm import tqdm\n",
        "\n",
        "from sklearn.model_selection import train_test_split\n",
        "from sklearn.metrics import mean_squared_error, mean_absolute_error\n",
        "from catboost import CatBoostRegressor\n",
        "\n",
        "pd.set_option('display.max_columns', 200)"
      ]
    },
    {
      "cell_type": "code",
      "source": [
        "# from google.colab import drive\n",
        "# drive.mount('/content/drive')\n",
        "X = pd.read_csv('/content/X.csv')\n",
        "y = pd.read_csv('/content/y.csv')"
      ],
      "metadata": {
        "id": "_mJLQajybHgI"
      },
      "id": "_mJLQajybHgI",
      "execution_count": 52,
      "outputs": []
    },
    {
      "cell_type": "code",
      "execution_count": 53,
      "id": "695d743b",
      "metadata": {
        "id": "695d743b"
      },
      "outputs": [],
      "source": [
        "# X = pd.read_csv(\"/content/drive/MyDrive/S7/X.csv\")\n",
        "# y = pd.read_csv(\"/content/drive/MyDrive/S7/y.csv\")"
      ]
    },
    {
      "cell_type": "code",
      "source": [
        "merged = X.merge(y)"
      ],
      "metadata": {
        "id": "ADyjJfZeZgGe"
      },
      "id": "ADyjJfZeZgGe",
      "execution_count": 54,
      "outputs": []
    },
    {
      "cell_type": "code",
      "source": [
        "#Merged Data\n",
        "Mt5b = merged[merged['flight_phase'] == 'TAKEOFF']\n",
        "Mt5b = Mt5b[Mt5b['engine_family'] == 'CFM56-5B']\n",
        "\n",
        "Mc5b = merged[merged['flight_phase'] == 'CRUISE']\n",
        "Mc5b = Mc5b[Mc5b['engine_family'] == 'CFM56-5B']\n",
        "\n",
        "Mt8e = merged[merged['flight_phase'] == 'TAKEOFF']\n",
        "Mt8e = Mt8e[Mt8e['engine_family'] == 'CF34-8E']\n",
        "\n",
        "Mc8e = merged[merged['flight_phase'] == 'CRUISE']\n",
        "Mc8e = Mc8e[Mc8e['engine_family'] == 'CF34-8E']\n",
        "\n",
        "Mt7 = merged[merged['flight_phase'] == 'TAKEOFF']\n",
        "Mt7 = Mt7[Mt7['engine_family'] == 'CFM56-7']\n",
        "\n",
        "Mc7 = merged[merged['flight_phase'] == 'CRUISE']\n",
        "Mc7 = Mc7[Mc7['engine_family'] == 'CFM56-7']\n",
        "\n",
        "#Split for X and y for engine_type and flight_phase\n",
        "\n",
        "col = [0, 2, 3]\n",
        "for i in range(53, len(Mc7.columns)):\n",
        "  col.append(i)\n",
        "\n",
        "Xt5b = Mt5b.iloc[:,:-30]\n",
        "yt5b = Mt5b.iloc[:,col]\n",
        "\n",
        "Xc5b = Mc5b.iloc[:,:-30]\n",
        "yc5b = Mc5b.iloc[:,col]\n",
        "\n",
        "Xt8e = Mt8e.iloc[:,:-30]\n",
        "yt8e = Mt8e.iloc[:,col]\n",
        "\n",
        "Xc8e = Mc8e.iloc[:,:-30]\n",
        "yc8e = Mc8e.iloc[:,col]\n",
        "\n",
        "Xt7 = Mt7.iloc[:,:-30]\n",
        "yt7 = Mt7.iloc[:,col]\n",
        "\n",
        "Xc7 = Mc7.iloc[:,:-30]\n",
        "yc7 = Mc7.iloc[:,col]\n"
      ],
      "metadata": {
        "id": "jOFOlHaZB3oe"
      },
      "id": "jOFOlHaZB3oe",
      "execution_count": 55,
      "outputs": []
    },
    {
      "cell_type": "code",
      "source": [
        "Xnames = ['Xt5b', 'Xc5b', 'Xt8e', 'Xc8e', 'Xt7', 'Xc7']\n",
        "ynames = ['yt5b', 'yc5b', 'yt8e', 'yc8e', 'yt7', 'yc7']\n"
      ],
      "metadata": {
        "id": "a0uIrPoQpiiy"
      },
      "id": "a0uIrPoQpiiy",
      "execution_count": 56,
      "outputs": []
    },
    {
      "cell_type": "code",
      "execution_count": 57,
      "id": "a971e7ca",
      "metadata": {
        "id": "a971e7ca",
        "colab": {
          "base_uri": "https://localhost:8080/"
        },
        "outputId": "a1e1b3ba-97bb-4f67-a53b-3a940e8a1a74"
      },
      "outputs": [
        {
          "output_type": "stream",
          "name": "stdout",
          "text": [
            "Xt5b\n"
          ]
        },
        {
          "output_type": "stream",
          "name": "stderr",
          "text": [
            "100%|██████████| 30/30 [00:55<00:00,  1.85s/it]\n"
          ]
        },
        {
          "output_type": "stream",
          "name": "stdout",
          "text": [
            "   parameter      rmse\n",
            "0       BRAT  0.017784\n",
            "1      DELFN  0.151761\n",
            "2      DELN1  0.063353\n",
            "3     EGTHDM  1.433408\n",
            "4   EGTHDM_D  0.174432\n",
            "5      PCN12  0.084798\n",
            "6     PCN12I  0.081705\n",
            "7     PCN1AR  0.130459\n",
            "8     PCN1BR  0.339564\n",
            "9      PCN1K  0.105355\n",
            "10    SLOATL  0.457827\n",
            "11  SLOATL_D  0.052444\n",
            "12       WBE  0.609650\n",
            "13  ZPCN25_D  0.077295\n",
            "14    ZT49_D  0.955837\n",
            "Xc5b\n"
          ]
        },
        {
          "output_type": "stream",
          "name": "stderr",
          "text": [
            "100%|██████████| 30/30 [02:25<00:00,  4.84s/it]\n"
          ]
        },
        {
          "output_type": "stream",
          "name": "stdout",
          "text": [
            "   parameter       rmse\n",
            "0       BRAT   0.004977\n",
            "1       DEGT   0.699499\n",
            "2     DELVSV   0.119783\n",
            "3      DPOIL   0.662545\n",
            "4       EGTC   0.561368\n",
            "5     EGTHDM   2.125425\n",
            "6     GEGTMC   0.767370\n",
            "7      GN2MC   0.013226\n",
            "8     GPCN25   0.013384\n",
            "9       GWFM   0.288243\n",
            "10     PCN12   0.040996\n",
            "11    PCN12I   0.040996\n",
            "12     PCN1K   0.083396\n",
            "13     PCN2C   0.026230\n",
            "14    SLOATL   0.749564\n",
            "15       WBE   0.327971\n",
            "16       WBI   0.002686\n",
            "17      WFMP  10.811444\n",
            "18  ZPCN25_D   0.039630\n",
            "19    ZT49_D   1.269483\n",
            "20   ZTNAC_D   2.370136\n",
            "21   ZWF36_D   5.719659\n",
            "Xt8e\n"
          ]
        },
        {
          "output_type": "stream",
          "name": "stderr",
          "text": [
            "100%|██████████| 30/30 [00:44<00:00,  1.49s/it]\n"
          ]
        },
        {
          "output_type": "stream",
          "name": "stdout",
          "text": [
            "  parameter       rmse\n",
            "0      BRAT   0.102092\n",
            "1    EGTHDM   0.452152\n",
            "2  EGTHDM_D   0.201211\n",
            "3     PCN12   0.056322\n",
            "4     PCN1K   0.074393\n",
            "5    SLOATL   0.136551\n",
            "6  SLOATL_D   0.057157\n",
            "7  ZPCN25_D   0.068236\n",
            "8    ZT49_D   0.532293\n",
            "9   ZWF36_D  28.083655\n",
            "Xc8e\n"
          ]
        },
        {
          "output_type": "stream",
          "name": "stderr",
          "text": [
            "100%|██████████| 30/30 [01:11<00:00,  2.40s/it]\n"
          ]
        },
        {
          "output_type": "stream",
          "name": "stdout",
          "text": [
            "   parameter      rmse\n",
            "0       BRAT  0.001445\n",
            "1       DEGT  2.374823\n",
            "2       EGTC  0.973790\n",
            "3     GPCN25  0.074511\n",
            "4       GWFM  0.621697\n",
            "5      PCN12  0.128735\n",
            "6     PCN12I  0.120599\n",
            "7      PCN1K  0.107862\n",
            "8      PCN2C  0.037126\n",
            "9        WBI  0.001445\n",
            "10      WFMP  7.538440\n",
            "11  ZPCN25_D  0.058092\n",
            "12    ZT49_D  3.938801\n",
            "13    ZTLA_D  0.104947\n",
            "14   ZWF36_D  9.913073\n",
            "Xt7\n"
          ]
        },
        {
          "output_type": "stream",
          "name": "stderr",
          "text": [
            "100%|██████████| 30/30 [01:11<00:00,  2.39s/it]\n"
          ]
        },
        {
          "output_type": "stream",
          "name": "stdout",
          "text": [
            "   parameter      rmse\n",
            "0       BRAT  0.053365\n",
            "1      DELFN  0.119797\n",
            "2      DELN1  0.091349\n",
            "3     EGTHDM  0.400429\n",
            "4   EGTHDM_D  0.175941\n",
            "5      PCN12  0.065016\n",
            "6     PCN12I  0.055158\n",
            "7     PCN1AR  0.069326\n",
            "8     PCN1BR  0.083793\n",
            "9      PCN1K  0.059009\n",
            "10    SLOATL  0.122084\n",
            "11  SLOATL_D  0.046598\n",
            "12  ZPCN25_D  0.603726\n",
            "13    ZT49_D  2.304713\n",
            "Xc7\n"
          ]
        },
        {
          "output_type": "stream",
          "name": "stderr",
          "text": [
            "100%|██████████| 30/30 [01:39<00:00,  3.33s/it]"
          ]
        },
        {
          "output_type": "stream",
          "name": "stdout",
          "text": [
            "   parameter        rmse\n",
            "0       BRAT    0.011446\n",
            "1       DEGT    0.260308\n",
            "2      DPOIL    0.887415\n",
            "3       EGTC    0.576304\n",
            "4     EGTHDM    0.495553\n",
            "5     GEGTMC    0.250384\n",
            "6      GN2MC    0.007537\n",
            "7     GPCN25    0.007473\n",
            "8       GWFM    0.372021\n",
            "9      PCN12    0.027029\n",
            "10    PCN12I    0.027029\n",
            "11     PCN1K    0.038110\n",
            "12     PCN2C    0.026120\n",
            "13    SLOATL    0.154790\n",
            "14       WBI    0.012187\n",
            "15      WFMP    9.294164\n",
            "16  ZPCN25_D    0.919402\n",
            "17    ZT49_D   14.862007\n",
            "18   ZWF36_D  356.871353\n"
          ]
        },
        {
          "output_type": "stream",
          "name": "stderr",
          "text": [
            "\n"
          ]
        }
      ],
      "source": [
        "def get_score_by_parameter(predict_field, XX, yy):\n",
        "    df = pd.merge(XX, yy, on=[\"engine_id\", \"flight_datetime\", \"flight_phase\"])\n",
        "    df = df[df[predict_field].notna()]\n",
        "    df = df.fillna(-100)\n",
        "    X = df.drop(columns=[predict_field])\n",
        "    X = X.drop(columns=[\n",
        "        \"engine_id\", \"aircraft_id\", \"flight_datetime\",\n",
        "        \"flight_phase\", \"engine_family\", \"engine_type\", \"manufacturer\",\n",
        "        \"aircraft_family\", \"aircraft_type\", \"aircraft_grp\", \"ac_manufacturer\"])\n",
        "    y = df[predict_field]\n",
        "    \n",
        "    X_train, X_test, y_train, y_test = train_test_split(X, y, test_size=0.25, random_state=42)\n",
        "    \n",
        "    model = CatBoostRegressor(iterations=500, verbose=False)\n",
        "    model.fit(X_train, y_train)\n",
        "    catboost_predicted = model.predict(X_test)\n",
        "    catboost_score = mean_squared_error(y_test, catboost_predicted, squared=False)\n",
        "    catboost_predicted = model.predict(X)\n",
        "    return catboost_score\n",
        "\n",
        "\n",
        "for i in range(6):\n",
        "  exec(f\"{Xnames[i]} = {Xnames[i]}.drop(columns=['ZHPTAC', 'ZLPTAC' , 'ZPHSF' , 'ZPN12R' ,'ZPOIL', 'ZPS3', 'ZT1AB' ,'ZT3', 'ZTAMB', 'ZTLA', 'ZTNAC', 'ZTOIL', 'ZVSV', 'ZWF36', 'IHPSOV', 'SAT', 'ZVIAS',  'ZWBP1_8E', 'ZWBP2_8E', 'IBP'])\")\n",
        "  print(Xnames[i])\n",
        "  scores = pd.DataFrame(columns=[\"parameter\", \"rmse\"])\n",
        "  exec(f\"output_parameters = {ynames[i]}.columns.drop(['flight_datetime', 'flight_phase', 'engine_id'])\")\n",
        "\n",
        "  for param in tqdm(output_parameters):\n",
        "      try:\n",
        "          exec(f\"score = get_score_by_parameter(param, {Xnames[i]}, {ynames[i]})\")\n",
        "          #qua = df[param].quantile([.0, .1, .5, .9, 1])\n",
        "          #qua = list(qua)\n",
        "          scores.loc[len(scores)] = [param, score] \n",
        "      except:\n",
        "          continue\n",
        "  print(scores)"
      ]
    },
    {
      "cell_type": "code",
      "source": [
        "# Xt5b.info()"
      ],
      "metadata": {
        "id": "J0gmJriBb4np"
      },
      "id": "J0gmJriBb4np",
      "execution_count": 58,
      "outputs": []
    },
    {
      "cell_type": "code",
      "execution_count": 59,
      "id": "fd0657fe",
      "metadata": {
        "id": "fd0657fe"
      },
      "outputs": [],
      "source": [
        "# scores = pd.DataFrame(columns=[\"parameter\", \"rmse\"])\n",
        "# output_parameters = yt5b.columns.drop(['flight_datetime', 'flight_phase', 'engine_id'])\n",
        "\n",
        "# for param in tqdm(output_parameters):\n",
        "#     try:\n",
        "#         score = get_score_by_parameter(param)\n",
        "#         #qua = df[param].quantile([.0, .1, .5, .9, 1])\n",
        "#         #qua = list(qua)\n",
        "#         scores.loc[len(scores)] = [param, score] \n",
        "#     except:\n",
        "#         continue"
      ]
    },
    {
      "cell_type": "code",
      "execution_count": 60,
      "id": "177f7024",
      "metadata": {
        "id": "177f7024"
      },
      "outputs": [],
      "source": [
        "# scores"
      ]
    },
    {
      "cell_type": "code",
      "source": [],
      "metadata": {
        "id": "6dqHAGt-8AUF"
      },
      "id": "6dqHAGt-8AUF",
      "execution_count": 60,
      "outputs": []
    }
  ],
  "metadata": {
    "kernelspec": {
      "display_name": "Python 3 (ipykernel)",
      "language": "python",
      "name": "python3"
    },
    "language_info": {
      "codemirror_mode": {
        "name": "ipython",
        "version": 3
      },
      "file_extension": ".py",
      "mimetype": "text/x-python",
      "name": "python",
      "nbconvert_exporter": "python",
      "pygments_lexer": "ipython3",
      "version": "3.9.16"
    },
    "colab": {
      "provenance": []
    }
  },
  "nbformat": 4,
  "nbformat_minor": 5
}